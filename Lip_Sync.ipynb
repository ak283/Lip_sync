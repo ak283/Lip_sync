{
  "nbformat": 4,
  "nbformat_minor": 0,
  "metadata": {
    "colab": {
      "provenance": [],
      "gpuType": "T4",
      "include_colab_link": true
    },
    "kernelspec": {
      "name": "python3",
      "display_name": "Python 3"
    },
    "accelerator": "GPU"
  },
  "cells": [
    {
      "cell_type": "markdown",
      "metadata": {
        "id": "view-in-github",
        "colab_type": "text"
      },
      "source": [
        "<a href=\"https://colab.research.google.com/github/ak283/friendly-robot/blob/main/Lip_Sync.ipynb\" target=\"_parent\"><img src=\"https://colab.research.google.com/assets/colab-badge.svg\" alt=\"Open In Colab\"/></a>"
      ]
    },
    {
      "cell_type": "code",
      "metadata": {
        "id": "qciH4PsUazL_",
        "colab": {
          "base_uri": "https://localhost:8080/"
        },
        "outputId": "4362deb6-abf3-4e2d-8f71-9217d3bd154d"
      },
      "source": [
        "from google.colab import drive\n",
        "drive.mount('/content/drive')"
      ],
      "execution_count": 1,
      "outputs": [
        {
          "output_type": "stream",
          "name": "stdout",
          "text": [
            "Mounted at /content/drive\n"
          ]
        }
      ]
    },
    {
      "cell_type": "markdown",
      "metadata": {
        "id": "yJ5taGmPcWV-"
      },
      "source": [
        " Get the model"
      ]
    },
    {
      "cell_type": "code",
      "metadata": {
        "id": "P3LihClHbUd3",
        "colab": {
          "base_uri": "https://localhost:8080/"
        },
        "outputId": "6a1579d2-ed0e-45e4-acbe-60fb0c970f77"
      },
      "source": [
        "!git clone https://github.com/Rudrabha/Wav2Lip.git"
      ],
      "execution_count": 2,
      "outputs": [
        {
          "output_type": "stream",
          "name": "stdout",
          "text": [
            "Cloning into 'Wav2Lip'...\n",
            "remote: Enumerating objects: 363, done.\u001b[K\n",
            "remote: Counting objects: 100% (3/3), done.\u001b[K\n",
            "remote: Compressing objects: 100% (3/3), done.\u001b[K\n",
            "remote: Total 363 (delta 0), reused 1 (delta 0), pack-reused 360\u001b[K\n",
            "Receiving objects: 100% (363/363), 528.20 KiB | 6.95 MiB/s, done.\n",
            "Resolving deltas: 100% (198/198), done.\n"
          ]
        }
      ]
    },
    {
      "cell_type": "code",
      "metadata": {
        "id": "y-19nzx8SamJ",
        "colab": {
          "base_uri": "https://localhost:8080/"
        },
        "outputId": "c9197b26-964a-4736-f14e-efd78b3fca93"
      },
      "source": [
        "!ls /content/drive/MyDrive/Wav2Lip"
      ],
      "execution_count": 3,
      "outputs": [
        {
          "output_type": "stream",
          "name": "stdout",
          "text": [
            "output10.wav  videoplayback.mp4  wav2lip_gan  wav2lip_gan.pth\n"
          ]
        }
      ]
    },
    {
      "cell_type": "markdown",
      "source": [
        "copy files within the directory and sub directory to checkpoint"
      ],
      "metadata": {
        "id": "b9aSKYIPEoWN"
      }
    },
    {
      "cell_type": "code",
      "metadata": {
        "id": "YjzMPy_Sb0AI"
      },
      "source": [
        "!cp -ri \"/content/drive/MyDrive/Wav2Lip/wav2lip_gan.pth\" /content/Wav2Lip/checkpoints/"
      ],
      "execution_count": 4,
      "outputs": []
    },
    {
      "cell_type": "code",
      "source": [
        "!ls /content/Wav2Lip/checkpoints"
      ],
      "metadata": {
        "id": "3lwzbm5qxFtj",
        "colab": {
          "base_uri": "https://localhost:8080/"
        },
        "outputId": "a193e872-8373-4733-b7fb-a02c74b352db"
      },
      "execution_count": 5,
      "outputs": [
        {
          "output_type": "stream",
          "name": "stdout",
          "text": [
            "README.md  wav2lip_gan.pth\n"
          ]
        }
      ]
    },
    {
      "cell_type": "markdown",
      "metadata": {
        "id": "aWTaOS3ncFt6"
      },
      "source": [
        " install pre-requisites liberaries"
      ]
    },
    {
      "cell_type": "code",
      "metadata": {
        "id": "Ooh28vw-Uvd3",
        "colab": {
          "base_uri": "https://localhost:8080/"
        },
        "outputId": "de7f2ec5-6db7-4815-b2bd-bca1ad8e44e3"
      },
      "source": [
        "!pip uninstall tensorflow tensorflow-gpu"
      ],
      "execution_count": 6,
      "outputs": [
        {
          "output_type": "stream",
          "name": "stdout",
          "text": [
            "Found existing installation: tensorflow 2.12.0\n",
            "Uninstalling tensorflow-2.12.0:\n",
            "  Would remove:\n",
            "    /usr/local/bin/estimator_ckpt_converter\n",
            "    /usr/local/bin/import_pb_to_tensorboard\n",
            "    /usr/local/bin/saved_model_cli\n",
            "    /usr/local/bin/tensorboard\n",
            "    /usr/local/bin/tf_upgrade_v2\n",
            "    /usr/local/bin/tflite_convert\n",
            "    /usr/local/bin/toco\n",
            "    /usr/local/bin/toco_from_protos\n",
            "    /usr/local/lib/python3.10/dist-packages/tensorflow-2.12.0.dist-info/*\n",
            "    /usr/local/lib/python3.10/dist-packages/tensorflow/*\n",
            "Proceed (Y/n)? y\n",
            "  Successfully uninstalled tensorflow-2.12.0\n",
            "\u001b[33mWARNING: Skipping tensorflow-gpu as it is not installed.\u001b[0m\u001b[33m\n",
            "\u001b[0m"
          ]
        }
      ]
    },
    {
      "cell_type": "code",
      "source": [
        "#!pip install librosa\n",
        "!pip install numpy\n",
        "!pip install opencv-contrib-python\n",
        "!pip install opencv-python\n",
        "!pip install torch\n",
        "!pip install torchvision\n",
        "!pip install tqdm\n",
        "!pip install numba"
      ],
      "metadata": {
        "id": "E9TX5YXiQ15f",
        "colab": {
          "base_uri": "https://localhost:8080/"
        },
        "outputId": "381aaf3e-6775-4f8f-9d7e-440db3b81801"
      },
      "execution_count": 7,
      "outputs": [
        {
          "output_type": "stream",
          "name": "stdout",
          "text": [
            "Requirement already satisfied: numpy in /usr/local/lib/python3.10/dist-packages (1.22.4)\n",
            "Requirement already satisfied: opencv-contrib-python in /usr/local/lib/python3.10/dist-packages (4.7.0.72)\n",
            "Requirement already satisfied: numpy>=1.21.2 in /usr/local/lib/python3.10/dist-packages (from opencv-contrib-python) (1.22.4)\n",
            "Requirement already satisfied: opencv-python in /usr/local/lib/python3.10/dist-packages (4.7.0.72)\n",
            "Requirement already satisfied: numpy>=1.21.2 in /usr/local/lib/python3.10/dist-packages (from opencv-python) (1.22.4)\n",
            "Requirement already satisfied: torch in /usr/local/lib/python3.10/dist-packages (2.0.1+cu118)\n",
            "Requirement already satisfied: filelock in /usr/local/lib/python3.10/dist-packages (from torch) (3.12.2)\n",
            "Requirement already satisfied: typing-extensions in /usr/local/lib/python3.10/dist-packages (from torch) (4.7.1)\n",
            "Requirement already satisfied: sympy in /usr/local/lib/python3.10/dist-packages (from torch) (1.11.1)\n",
            "Requirement already satisfied: networkx in /usr/local/lib/python3.10/dist-packages (from torch) (3.1)\n",
            "Requirement already satisfied: jinja2 in /usr/local/lib/python3.10/dist-packages (from torch) (3.1.2)\n",
            "Requirement already satisfied: triton==2.0.0 in /usr/local/lib/python3.10/dist-packages (from torch) (2.0.0)\n",
            "Requirement already satisfied: cmake in /usr/local/lib/python3.10/dist-packages (from triton==2.0.0->torch) (3.25.2)\n",
            "Requirement already satisfied: lit in /usr/local/lib/python3.10/dist-packages (from triton==2.0.0->torch) (16.0.6)\n",
            "Requirement already satisfied: MarkupSafe>=2.0 in /usr/local/lib/python3.10/dist-packages (from jinja2->torch) (2.1.3)\n",
            "Requirement already satisfied: mpmath>=0.19 in /usr/local/lib/python3.10/dist-packages (from sympy->torch) (1.3.0)\n",
            "Requirement already satisfied: torchvision in /usr/local/lib/python3.10/dist-packages (0.15.2+cu118)\n",
            "Requirement already satisfied: numpy in /usr/local/lib/python3.10/dist-packages (from torchvision) (1.22.4)\n",
            "Requirement already satisfied: requests in /usr/local/lib/python3.10/dist-packages (from torchvision) (2.27.1)\n",
            "Requirement already satisfied: torch==2.0.1 in /usr/local/lib/python3.10/dist-packages (from torchvision) (2.0.1+cu118)\n",
            "Requirement already satisfied: pillow!=8.3.*,>=5.3.0 in /usr/local/lib/python3.10/dist-packages (from torchvision) (8.4.0)\n",
            "Requirement already satisfied: filelock in /usr/local/lib/python3.10/dist-packages (from torch==2.0.1->torchvision) (3.12.2)\n",
            "Requirement already satisfied: typing-extensions in /usr/local/lib/python3.10/dist-packages (from torch==2.0.1->torchvision) (4.7.1)\n",
            "Requirement already satisfied: sympy in /usr/local/lib/python3.10/dist-packages (from torch==2.0.1->torchvision) (1.11.1)\n",
            "Requirement already satisfied: networkx in /usr/local/lib/python3.10/dist-packages (from torch==2.0.1->torchvision) (3.1)\n",
            "Requirement already satisfied: jinja2 in /usr/local/lib/python3.10/dist-packages (from torch==2.0.1->torchvision) (3.1.2)\n",
            "Requirement already satisfied: triton==2.0.0 in /usr/local/lib/python3.10/dist-packages (from torch==2.0.1->torchvision) (2.0.0)\n",
            "Requirement already satisfied: cmake in /usr/local/lib/python3.10/dist-packages (from triton==2.0.0->torch==2.0.1->torchvision) (3.25.2)\n",
            "Requirement already satisfied: lit in /usr/local/lib/python3.10/dist-packages (from triton==2.0.0->torch==2.0.1->torchvision) (16.0.6)\n",
            "Requirement already satisfied: urllib3<1.27,>=1.21.1 in /usr/local/lib/python3.10/dist-packages (from requests->torchvision) (1.26.16)\n",
            "Requirement already satisfied: certifi>=2017.4.17 in /usr/local/lib/python3.10/dist-packages (from requests->torchvision) (2023.5.7)\n",
            "Requirement already satisfied: charset-normalizer~=2.0.0 in /usr/local/lib/python3.10/dist-packages (from requests->torchvision) (2.0.12)\n",
            "Requirement already satisfied: idna<4,>=2.5 in /usr/local/lib/python3.10/dist-packages (from requests->torchvision) (3.4)\n",
            "Requirement already satisfied: MarkupSafe>=2.0 in /usr/local/lib/python3.10/dist-packages (from jinja2->torch==2.0.1->torchvision) (2.1.3)\n",
            "Requirement already satisfied: mpmath>=0.19 in /usr/local/lib/python3.10/dist-packages (from sympy->torch==2.0.1->torchvision) (1.3.0)\n",
            "Requirement already satisfied: tqdm in /usr/local/lib/python3.10/dist-packages (4.65.0)\n",
            "Requirement already satisfied: numba in /usr/local/lib/python3.10/dist-packages (0.56.4)\n",
            "Requirement already satisfied: llvmlite<0.40,>=0.39.0dev0 in /usr/local/lib/python3.10/dist-packages (from numba) (0.39.1)\n",
            "Requirement already satisfied: numpy<1.24,>=1.18 in /usr/local/lib/python3.10/dist-packages (from numba) (1.22.4)\n",
            "Requirement already satisfied: setuptools in /usr/local/lib/python3.10/dist-packages (from numba) (67.7.2)\n"
          ]
        }
      ]
    },
    {
      "cell_type": "code",
      "source": [
        "!pip install \"librosa==0.9.1\""
      ],
      "metadata": {
        "id": "Av8Cp22STzqe",
        "colab": {
          "base_uri": "https://localhost:8080/"
        },
        "outputId": "c64a1966-9489-4195-fbc5-21b25b8f30fb"
      },
      "execution_count": 8,
      "outputs": [
        {
          "output_type": "stream",
          "name": "stdout",
          "text": [
            "Collecting librosa==0.9.1\n",
            "  Downloading librosa-0.9.1-py3-none-any.whl (213 kB)\n",
            "\u001b[?25l     \u001b[90m━━━━━━━━━━━━━━━━━━━━━━━━━━━━━━━━━━━━━━━━\u001b[0m \u001b[32m0.0/213.1 kB\u001b[0m \u001b[31m?\u001b[0m eta \u001b[36m-:--:--\u001b[0m\r\u001b[2K     \u001b[91m━━━━━━━━━━━━━━━━━━━━━━━━━━━━━━━━━━━━━\u001b[0m\u001b[90m╺\u001b[0m\u001b[90m━\u001b[0m \u001b[32m204.8/213.1 kB\u001b[0m \u001b[31m6.5 MB/s\u001b[0m eta \u001b[36m0:00:01\u001b[0m\r\u001b[2K     \u001b[90m━━━━━━━━━━━━━━━━━━━━━━━━━━━━━━━━━━━━━━━\u001b[0m \u001b[32m213.1/213.1 kB\u001b[0m \u001b[31m5.3 MB/s\u001b[0m eta \u001b[36m0:00:00\u001b[0m\n",
            "\u001b[?25hRequirement already satisfied: audioread>=2.1.5 in /usr/local/lib/python3.10/dist-packages (from librosa==0.9.1) (3.0.0)\n",
            "Requirement already satisfied: numpy>=1.17.0 in /usr/local/lib/python3.10/dist-packages (from librosa==0.9.1) (1.22.4)\n",
            "Requirement already satisfied: scipy>=1.2.0 in /usr/local/lib/python3.10/dist-packages (from librosa==0.9.1) (1.10.1)\n",
            "Requirement already satisfied: scikit-learn>=0.19.1 in /usr/local/lib/python3.10/dist-packages (from librosa==0.9.1) (1.2.2)\n",
            "Requirement already satisfied: joblib>=0.14 in /usr/local/lib/python3.10/dist-packages (from librosa==0.9.1) (1.3.1)\n",
            "Requirement already satisfied: decorator>=4.0.10 in /usr/local/lib/python3.10/dist-packages (from librosa==0.9.1) (4.4.2)\n",
            "Collecting resampy>=0.2.2 (from librosa==0.9.1)\n",
            "  Downloading resampy-0.4.2-py3-none-any.whl (3.1 MB)\n",
            "\u001b[2K     \u001b[90m━━━━━━━━━━━━━━━━━━━━━━━━━━━━━━━━━━━━━━━━\u001b[0m \u001b[32m3.1/3.1 MB\u001b[0m \u001b[31m45.3 MB/s\u001b[0m eta \u001b[36m0:00:00\u001b[0m\n",
            "\u001b[?25hRequirement already satisfied: numba>=0.45.1 in /usr/local/lib/python3.10/dist-packages (from librosa==0.9.1) (0.56.4)\n",
            "Requirement already satisfied: soundfile>=0.10.2 in /usr/local/lib/python3.10/dist-packages (from librosa==0.9.1) (0.12.1)\n",
            "Requirement already satisfied: pooch>=1.0 in /usr/local/lib/python3.10/dist-packages (from librosa==0.9.1) (1.6.0)\n",
            "Requirement already satisfied: packaging>=20.0 in /usr/local/lib/python3.10/dist-packages (from librosa==0.9.1) (23.1)\n",
            "Requirement already satisfied: llvmlite<0.40,>=0.39.0dev0 in /usr/local/lib/python3.10/dist-packages (from numba>=0.45.1->librosa==0.9.1) (0.39.1)\n",
            "Requirement already satisfied: setuptools in /usr/local/lib/python3.10/dist-packages (from numba>=0.45.1->librosa==0.9.1) (67.7.2)\n",
            "Requirement already satisfied: appdirs>=1.3.0 in /usr/local/lib/python3.10/dist-packages (from pooch>=1.0->librosa==0.9.1) (1.4.4)\n",
            "Requirement already satisfied: requests>=2.19.0 in /usr/local/lib/python3.10/dist-packages (from pooch>=1.0->librosa==0.9.1) (2.27.1)\n",
            "Requirement already satisfied: threadpoolctl>=2.0.0 in /usr/local/lib/python3.10/dist-packages (from scikit-learn>=0.19.1->librosa==0.9.1) (3.1.0)\n",
            "Requirement already satisfied: cffi>=1.0 in /usr/local/lib/python3.10/dist-packages (from soundfile>=0.10.2->librosa==0.9.1) (1.15.1)\n",
            "Requirement already satisfied: pycparser in /usr/local/lib/python3.10/dist-packages (from cffi>=1.0->soundfile>=0.10.2->librosa==0.9.1) (2.21)\n",
            "Requirement already satisfied: urllib3<1.27,>=1.21.1 in /usr/local/lib/python3.10/dist-packages (from requests>=2.19.0->pooch>=1.0->librosa==0.9.1) (1.26.16)\n",
            "Requirement already satisfied: certifi>=2017.4.17 in /usr/local/lib/python3.10/dist-packages (from requests>=2.19.0->pooch>=1.0->librosa==0.9.1) (2023.5.7)\n",
            "Requirement already satisfied: charset-normalizer~=2.0.0 in /usr/local/lib/python3.10/dist-packages (from requests>=2.19.0->pooch>=1.0->librosa==0.9.1) (2.0.12)\n",
            "Requirement already satisfied: idna<4,>=2.5 in /usr/local/lib/python3.10/dist-packages (from requests>=2.19.0->pooch>=1.0->librosa==0.9.1) (3.4)\n",
            "Installing collected packages: resampy, librosa\n",
            "  Attempting uninstall: librosa\n",
            "    Found existing installation: librosa 0.10.0.post2\n",
            "    Uninstalling librosa-0.10.0.post2:\n",
            "      Successfully uninstalled librosa-0.10.0.post2\n",
            "Successfully installed librosa-0.9.1 resampy-0.4.2\n"
          ]
        }
      ]
    },
    {
      "cell_type": "markdown",
      "source": [
        "get the face detection model"
      ],
      "metadata": {
        "id": "V5s1TQ5QFL7i"
      }
    },
    {
      "cell_type": "code",
      "metadata": {
        "id": "ey_bN4M6X_95",
        "colab": {
          "base_uri": "https://localhost:8080/"
        },
        "outputId": "82ef7a2b-b056-47ed-f342-783cc9e32123"
      },
      "source": [
        "!wget \"https://www.adrianbulat.com/downloads/python-fan/s3fd-619a316812.pth\" -O \"Wav2Lip/face_detection/detection/sfd/s3fd.pth\""
      ],
      "execution_count": 9,
      "outputs": [
        {
          "output_type": "stream",
          "name": "stdout",
          "text": [
            "--2023-07-19 12:37:08--  https://www.adrianbulat.com/downloads/python-fan/s3fd-619a316812.pth\n",
            "Resolving www.adrianbulat.com (www.adrianbulat.com)... 45.136.29.207\n",
            "Connecting to www.adrianbulat.com (www.adrianbulat.com)|45.136.29.207|:443... connected.\n",
            "HTTP request sent, awaiting response... 200 OK\n",
            "Length: 89843225 (86M) [application/octet-stream]\n",
            "Saving to: ‘Wav2Lip/face_detection/detection/sfd/s3fd.pth’\n",
            "\n",
            "Wav2Lip/face_detect 100%[===================>]  85.68M  1.74MB/s    in 18s     \n",
            "\n",
            "2023-07-19 12:37:26 (4.76 MB/s) - ‘Wav2Lip/face_detection/detection/sfd/s3fd.pth’ saved [89843225/89843225]\n",
            "\n"
          ]
        }
      ]
    },
    {
      "cell_type": "code",
      "metadata": {
        "id": "KoVGMtjRZfeR",
        "colab": {
          "base_uri": "https://localhost:8080/"
        },
        "outputId": "d8d0aeb1-edcb-4744-e33c-70a9bad741d0"
      },
      "source": [
        "!cp \"/content/drive/My Drive/Wav2Lip/videoplayback.mp4\" \"/content/drive/My Drive/Wav2Lip/output10.wav\" sample_data/\n",
        "!ls sample_data/"
      ],
      "execution_count": 10,
      "outputs": [
        {
          "output_type": "stream",
          "name": "stdout",
          "text": [
            "anscombe.json\t\t      mnist_test.csv\t     README.md\n",
            "california_housing_test.csv   mnist_train_small.csv  videoplayback.mp4\n",
            "california_housing_train.csv  output10.wav\n"
          ]
        }
      ]
    },
    {
      "cell_type": "markdown",
      "source": [
        "Calling python script to merge audio and video file"
      ],
      "metadata": {
        "id": "JnuFebnhFhVl"
      }
    },
    {
      "cell_type": "code",
      "metadata": {
        "id": "45XW4SZAzIz5",
        "colab": {
          "base_uri": "https://localhost:8080/"
        },
        "outputId": "9609a1bb-8d88-41f6-caa9-72145cc229b0"
      },
      "source": [
        "!cd Wav2Lip && python inference.py --checkpoint_path checkpoints/wav2lip_gan.pth --face \"../sample_data/videoplayback.mp4\" --audio \"../sample_data/output10.wav\" --pads 0 35 0 0 --resize_factor 2 --nosmooth"
      ],
      "execution_count": 11,
      "outputs": [
        {
          "output_type": "stream",
          "name": "stdout",
          "text": [
            "Using cpu for inference.\n",
            "Reading video frames...\n",
            "Number of frames available for inference: 636\n",
            "/content/Wav2Lip/audio.py:100: FutureWarning: Pass sr=16000, n_fft=800 as keyword args. From version 0.10 passing these as positional arguments will result in an error\n",
            "  return librosa.filters.mel(hp.sample_rate, hp.n_fft, n_mels=hp.num_mels,\n",
            "(80, 5386)\n",
            "Length of mel chunks: 2016\n",
            "  0% 0/16 [00:00<?, ?it/s]\n",
            "  0% 0/40 [00:00<?, ?it/s]\u001b[A\n",
            "  2% 1/40 [00:32<21:15, 32.71s/it]\u001b[A\n",
            "  5% 2/40 [01:00<18:45, 29.62s/it]\u001b[A\n",
            "  8% 3/40 [01:27<17:41, 28.68s/it]\u001b[A\n",
            " 10% 4/40 [01:54<16:43, 27.88s/it]\u001b[A\n",
            " 12% 5/40 [02:21<16:02, 27.51s/it]\u001b[A\n",
            " 15% 6/40 [02:48<15:37, 27.58s/it]\u001b[A\n",
            " 18% 7/40 [03:14<14:45, 26.83s/it]\u001b[A\n",
            " 20% 8/40 [03:41<14:19, 26.85s/it]\u001b[A\n",
            " 22% 9/40 [04:10<14:13, 27.53s/it]\u001b[A\n",
            " 25% 10/40 [04:37<13:39, 27.33s/it]\u001b[A\n",
            " 28% 11/40 [05:01<12:50, 26.56s/it]\u001b[A\n",
            " 30% 12/40 [05:28<12:21, 26.48s/it]\u001b[A\n",
            " 32% 13/40 [05:54<11:51, 26.36s/it]\u001b[A\n",
            " 35% 14/40 [06:21<11:31, 26.59s/it]\u001b[A\n",
            " 38% 15/40 [06:46<10:55, 26.20s/it]\u001b[A\n",
            " 40% 16/40 [07:12<10:25, 26.06s/it]\u001b[A\n",
            " 42% 17/40 [07:38<10:03, 26.22s/it]\u001b[A\n",
            " 45% 18/40 [08:05<09:37, 26.24s/it]\u001b[A\n",
            " 48% 19/40 [08:32<09:18, 26.59s/it]\u001b[A\n",
            " 50% 20/40 [08:57<08:40, 26.04s/it]\u001b[A\n",
            " 52% 21/40 [09:24<08:20, 26.32s/it]\u001b[A\n",
            " 55% 22/40 [09:50<07:54, 26.34s/it]\u001b[A\n",
            " 57% 23/40 [10:17<07:29, 26.47s/it]\u001b[A\n",
            " 60% 24/40 [10:49<07:28, 28.02s/it]\u001b[A\n",
            " 62% 25/40 [11:15<06:50, 27.37s/it]\u001b[A\n",
            " 65% 26/40 [11:40<06:14, 26.76s/it]\u001b[A\n",
            " 68% 27/40 [12:07<05:49, 26.88s/it]\u001b[A\n",
            " 70% 28/40 [12:36<05:28, 27.41s/it]\u001b[A\n",
            " 72% 29/40 [13:02<04:59, 27.20s/it]\u001b[A\n",
            " 75% 30/40 [13:30<04:31, 27.19s/it]\u001b[A\n",
            " 78% 31/40 [13:55<03:59, 26.57s/it]\u001b[A\n",
            " 80% 32/40 [14:21<03:32, 26.51s/it]\u001b[A\n",
            " 82% 33/40 [14:48<03:06, 26.63s/it]\u001b[A\n",
            " 85% 34/40 [15:15<02:40, 26.67s/it]\u001b[A\n",
            " 88% 35/40 [15:41<02:12, 26.47s/it]\u001b[A\n",
            " 90% 36/40 [16:05<01:43, 25.94s/it]\u001b[A\n",
            " 92% 37/40 [16:35<01:20, 26.91s/it]\u001b[A\n",
            " 95% 38/40 [17:01<00:53, 26.72s/it]\u001b[A\n",
            " 98% 39/40 [17:28<00:26, 26.71s/it]\u001b[A\n",
            "100% 40/40 [17:47<00:00, 26.70s/it]\n",
            "Load checkpoint from: checkpoints/wav2lip_gan.pth\n",
            "Model loaded\n",
            "100% 16/16 [26:05<00:00, 97.83s/it]\n",
            "ffmpeg version 4.2.7-0ubuntu0.1 Copyright (c) 2000-2022 the FFmpeg developers\n",
            "  built with gcc 9 (Ubuntu 9.4.0-1ubuntu1~20.04.1)\n",
            "  configuration: --prefix=/usr --extra-version=0ubuntu0.1 --toolchain=hardened --libdir=/usr/lib/x86_64-linux-gnu --incdir=/usr/include/x86_64-linux-gnu --arch=amd64 --enable-gpl --disable-stripping --enable-avresample --disable-filter=resample --enable-avisynth --enable-gnutls --enable-ladspa --enable-libaom --enable-libass --enable-libbluray --enable-libbs2b --enable-libcaca --enable-libcdio --enable-libcodec2 --enable-libflite --enable-libfontconfig --enable-libfreetype --enable-libfribidi --enable-libgme --enable-libgsm --enable-libjack --enable-libmp3lame --enable-libmysofa --enable-libopenjpeg --enable-libopenmpt --enable-libopus --enable-libpulse --enable-librsvg --enable-librubberband --enable-libshine --enable-libsnappy --enable-libsoxr --enable-libspeex --enable-libssh --enable-libtheora --enable-libtwolame --enable-libvidstab --enable-libvorbis --enable-libvpx --enable-libwavpack --enable-libwebp --enable-libx265 --enable-libxml2 --enable-libxvid --enable-libzmq --enable-libzvbi --enable-lv2 --enable-omx --enable-openal --enable-opencl --enable-opengl --enable-sdl2 --enable-libdc1394 --enable-libdrm --enable-libiec61883 --enable-nvenc --enable-chromaprint --enable-frei0r --enable-libx264 --enable-shared\n",
            "  libavutil      56. 31.100 / 56. 31.100\n",
            "  libavcodec     58. 54.100 / 58. 54.100\n",
            "  libavformat    58. 29.100 / 58. 29.100\n",
            "  libavdevice    58.  8.100 / 58.  8.100\n",
            "  libavfilter     7. 57.100 /  7. 57.100\n",
            "  libavresample   4.  0.  0 /  4.  0.  0\n",
            "  libswscale      5.  5.100 /  5.  5.100\n",
            "  libswresample   3.  5.100 /  3.  5.100\n",
            "  libpostproc    55.  5.100 / 55.  5.100\n",
            "\u001b[0;35m[mp3 @ 0x5acd52f790c0] \u001b[0m\u001b[0;33mEstimating duration from bitrate, this may be inaccurate\n",
            "\u001b[0mInput #0, mp3, from '../sample_data/output10.wav':\n",
            "  Duration: 00:01:07.32, start: 0.000000, bitrate: 96 kb/s\n",
            "    Stream #0:0: Audio: mp3, 44100 Hz, mono, fltp, 96 kb/s\n",
            "Input #1, avi, from 'temp/result.avi':\n",
            "  Metadata:\n",
            "    encoder         : Lavf59.27.100\n",
            "  Duration: 00:01:07.20, start: 0.000000, bitrate: 523 kb/s\n",
            "    Stream #1:0: Video: mpeg4 (Simple Profile) (DIVX / 0x58564944), yuv420p, 426x240 [SAR 1:1 DAR 71:40], 516 kb/s, 30 fps, 30 tbr, 30 tbn, 30 tbc\n",
            "Stream mapping:\n",
            "  Stream #1:0 -> #0:0 (mpeg4 (native) -> h264 (libx264))\n",
            "  Stream #0:0 -> #0:1 (mp3 (mp3float) -> aac (native))\n",
            "Press [q] to stop, [?] for help\n",
            "\u001b[1;36m[libx264 @ 0x5acd52fd4a40] \u001b[0m\u001b[0;33m-qscale is ignored, -crf is recommended.\n",
            "\u001b[0m\u001b[1;36m[libx264 @ 0x5acd52fd4a40] \u001b[0musing SAR=1/1\n",
            "\u001b[1;36m[libx264 @ 0x5acd52fd4a40] \u001b[0musing cpu capabilities: MMX2 SSE2Fast SSSE3 SSE4.2 AVX FMA3 BMI2 AVX2\n",
            "\u001b[1;36m[libx264 @ 0x5acd52fd4a40] \u001b[0mprofile High, level 2.1\n",
            "\u001b[1;36m[libx264 @ 0x5acd52fd4a40] \u001b[0m264 - core 155 r2917 0a84d98 - H.264/MPEG-4 AVC codec - Copyleft 2003-2018 - http://www.videolan.org/x264.html - options: cabac=1 ref=3 deblock=1:0:0 analyse=0x3:0x113 me=hex subme=7 psy=1 psy_rd=1.00:0.00 mixed_ref=1 me_range=16 chroma_me=1 trellis=1 8x8dct=1 cqm=0 deadzone=21,11 fast_pskip=1 chroma_qp_offset=-2 threads=3 lookahead_threads=1 sliced_threads=0 nr=0 decimate=1 interlaced=0 bluray_compat=0 constrained_intra=0 bframes=3 b_pyramid=2 b_adapt=1 b_bias=0 direct=1 weightb=1 open_gop=0 weightp=2 keyint=250 keyint_min=25 scenecut=40 intra_refresh=0 rc_lookahead=40 rc=crf mbtree=1 crf=23.0 qcomp=0.60 qpmin=0 qpmax=69 qpstep=4 ip_ratio=1.40 aq=1:1.00\n",
            "Output #0, mp4, to 'results/result_voice.mp4':\n",
            "  Metadata:\n",
            "    encoder         : Lavf58.29.100\n",
            "    Stream #0:0: Video: h264 (libx264) (avc1 / 0x31637661), yuv420p(progressive), 426x240 [SAR 1:1 DAR 71:40], q=-1--1, 30 fps, 15360 tbn, 30 tbc\n",
            "    Metadata:\n",
            "      encoder         : Lavc58.54.100 libx264\n",
            "    Side data:\n",
            "      cpb: bitrate max/min/avg: 0/0/0 buffer size: 0 vbv_delay: -1\n",
            "    Stream #0:1: Audio: aac (LC) (mp4a / 0x6134706D), 44100 Hz, mono, fltp, 69 kb/s\n",
            "    Metadata:\n",
            "      encoder         : Lavc58.54.100 aac\n",
            "frame= 2016 fps=171 q=-1.0 Lsize=    2112kB time=00:01:07.33 bitrate= 257.0kbits/s speed= 5.7x    \n",
            "video:1473kB audio:571kB subtitle:0kB other streams:0kB global headers:0kB muxing overhead: 3.378286%\n",
            "\u001b[1;36m[libx264 @ 0x5acd52fd4a40] \u001b[0mframe I:9     Avg QP:18.21  size:  6059\n",
            "\u001b[1;36m[libx264 @ 0x5acd52fd4a40] \u001b[0mframe P:1080  Avg QP:22.21  size:  1056\n",
            "\u001b[1;36m[libx264 @ 0x5acd52fd4a40] \u001b[0mframe B:927   Avg QP:25.65  size:   337\n",
            "\u001b[1;36m[libx264 @ 0x5acd52fd4a40] \u001b[0mconsecutive B-frames: 31.6% 17.6% 10.7% 40.1%\n",
            "\u001b[1;36m[libx264 @ 0x5acd52fd4a40] \u001b[0mmb I  I16..4: 27.0% 57.8% 15.2%\n",
            "\u001b[1;36m[libx264 @ 0x5acd52fd4a40] \u001b[0mmb P  I16..4:  1.1%  3.8%  0.4%  P16..4: 18.5%  8.8%  5.1%  0.0%  0.0%    skip:62.3%\n",
            "\u001b[1;36m[libx264 @ 0x5acd52fd4a40] \u001b[0mmb B  I16..4:  0.2%  1.2%  0.1%  B16..8: 24.1%  2.9%  0.6%  direct: 0.4%  skip:70.5%  L0:47.7% L1:45.4% BI: 6.9%\n",
            "\u001b[1;36m[libx264 @ 0x5acd52fd4a40] \u001b[0m8x8 transform intra:72.2% inter:66.8%\n",
            "\u001b[1;36m[libx264 @ 0x5acd52fd4a40] \u001b[0mcoded y,uvDC,uvAC intra: 43.8% 40.6% 14.2% inter: 6.7% 5.2% 0.2%\n",
            "\u001b[1;36m[libx264 @ 0x5acd52fd4a40] \u001b[0mi16 v,h,dc,p: 51% 21% 14% 15%\n",
            "\u001b[1;36m[libx264 @ 0x5acd52fd4a40] \u001b[0mi8 v,h,dc,ddl,ddr,vr,hd,vl,hu: 29% 14% 42%  3%  2%  3%  2%  2%  3%\n",
            "\u001b[1;36m[libx264 @ 0x5acd52fd4a40] \u001b[0mi4 v,h,dc,ddl,ddr,vr,hd,vl,hu: 24% 24% 15%  4%  8%  8%  7%  5%  4%\n",
            "\u001b[1;36m[libx264 @ 0x5acd52fd4a40] \u001b[0mi8c dc,h,v,p: 52% 22% 23%  3%\n",
            "\u001b[1;36m[libx264 @ 0x5acd52fd4a40] \u001b[0mWeighted P-Frames: Y:0.3% UV:0.0%\n",
            "\u001b[1;36m[libx264 @ 0x5acd52fd4a40] \u001b[0mref P L0: 73.3% 11.7% 10.2%  4.8%  0.0%\n",
            "\u001b[1;36m[libx264 @ 0x5acd52fd4a40] \u001b[0mref B L0: 86.8% 10.1%  3.0%\n",
            "\u001b[1;36m[libx264 @ 0x5acd52fd4a40] \u001b[0mref B L1: 97.6%  2.4%\n",
            "\u001b[1;36m[libx264 @ 0x5acd52fd4a40] \u001b[0mkb/s:179.43\n",
            "\u001b[1;36m[aac @ 0x5acd52fc3800] \u001b[0mQavg: 158.364\n"
          ]
        }
      ]
    }
  ]
}